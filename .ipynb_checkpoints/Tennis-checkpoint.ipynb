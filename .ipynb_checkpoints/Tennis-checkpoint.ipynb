{
 "cells": [
  {
   "cell_type": "markdown",
   "metadata": {},
   "source": [
    "# Multi Agent Deep Deterministic Policy Gradients (MADDPG)\n",
    "---\n",
    "In this notebook, we train MADDPG with Tennis environment.\n",
    "\n",
    "### 1. Import the Necessary Packages"
   ]
  },
  {
   "cell_type": "code",
   "execution_count": 1,
   "metadata": {},
   "outputs": [],
   "source": [
    "from unityagents import UnityEnvironment\n",
    "import torch\n",
    "import numpy as np\n",
    "from collections import deque\n",
    "import matplotlib.pyplot as plt\n",
    "%matplotlib inline\n",
    "\n",
    "from maddpg import MADDPG"
   ]
  },
  {
   "cell_type": "markdown",
   "metadata": {},
   "source": [
    "### 2. Instantiate the Environment and Agents"
   ]
  },
  {
   "cell_type": "code",
   "execution_count": 2,
   "metadata": {},
   "outputs": [
    {
     "name": "stderr",
     "output_type": "stream",
     "text": [
      "INFO:unityagents:\n",
      "'Academy' started successfully!\n",
      "Unity Academy name: Academy\n",
      "        Number of Brains: 1\n",
      "        Number of External Brains : 1\n",
      "        Lesson number : 0\n",
      "        Reset Parameters :\n",
      "\t\t\n",
      "Unity brain name: TennisBrain\n",
      "        Number of Visual Observations (per agent): 0\n",
      "        Vector Observation space type: continuous\n",
      "        Vector Observation space size (per agent): 8\n",
      "        Number of stacked Vector Observation: 3\n",
      "        Vector Action space type: continuous\n",
      "        Vector Action space size (per agent): 2\n",
      "        Vector Action descriptions: , \n"
     ]
    }
   ],
   "source": [
    "file_name   = r'D:\\deep-reinforcement-learning\\p3_collab-compet\\Tennis_Windows_x86_64\\Tennis.exe'\n",
    "env         = UnityEnvironment(file_name=file_name)  # open environment\n",
    "brain_name  = env.brain_names[0]                     # get the default brain\n",
    "brain       = env.brains[brain_name]\n",
    "env_info    = env.reset(train_mode=True)[brain_name] # reset the environment\n",
    "num_agents  = len(env_info.agents)                   # number of agents\n",
    "action_size = brain.vector_action_space_size         # size of each action\n",
    "states      = env_info.vector_observations           # examine the state space \n",
    "state_size  = states.shape[1]\n",
    "# create the agents\n",
    "agents = MADDPG(state_size=state_size, action_size=action_size, n_agents=num_agents, random_seed=5)"
   ]
  },
  {
   "cell_type": "markdown",
   "metadata": {},
   "source": [
    "### 3. Train the Agents with MADDPG\n",
    "\n",
    "Run the code cell below to train the agents from scratch.  Alternatively, you can skip to the next code cell to load the pre-trained weights from file."
   ]
  },
  {
   "cell_type": "code",
   "execution_count": 3,
   "metadata": {},
   "outputs": [
    {
     "name": "stdout",
     "output_type": "stream",
     "text": [
      "Episode 3000\tAverage Score: 0.56\tScore: 1.90"
     ]
    },
    {
     "data": {
      "image/png": "[encoded data removed]",
      "text/plain": [
       "<Figure size 432x288 with 1 Axes>"
      ]
     },
     "metadata": {
      "needs_background": "light"
     },
     "output_type": "display_data"
    }
   ],
   "source": [
    "def maddpg(n_episodes=3000):\n",
    "    scores_deque      = deque(maxlen=100) # last 100 scores\n",
    "    scores            = []                # all scores  \n",
    "    average_scores    = []                # all average scores         \n",
    "    max_average_score = 0                 # max average score\n",
    "    for i_episode in range(1, n_episodes+1):\n",
    "        agents.reset()                                           # reset noise    \n",
    "        env_info       = env.reset(train_mode=True)[brain_name]  # reset the environment    \n",
    "        states         = env_info.vector_observations            # get the current state\n",
    "        episode_scores = np.zeros(num_agents)                    # initialize the score\n",
    "        while True:\n",
    "            actions     = agents.act(states)                    # select an action\n",
    "            env_info    = env.step(actions)[brain_name]         # send action to tne environment\n",
    "            next_states = env_info.vector_observations          # get next state\n",
    "            rewards     = env_info.rewards                      # get reward\n",
    "            dones       = env_info.local_done                   # see if episode finished\n",
    "            agents.step(states, actions, rewards, next_states,\n",
    "                        dones)                                  # Save experience and learn\n",
    "            episode_scores += rewards                           # update the score\n",
    "            states          = next_states                       # roll over state to next time step\n",
    "            if np.any(dones):                                   # exit loop if episode finished\n",
    "                break\n",
    "        score = np.max(episode_scores)                          # max episode score\n",
    "        scores_deque.append(score)      \n",
    "        scores.append(score)\n",
    "        average_score = np.mean(scores_deque)                   # average score\n",
    "        average_scores.append(average_score)\n",
    "        print('\\rEpisode {}\\tAverage Score: {:.2f}\\tScore: {:.2f}'.format(i_episode, average_score, score), end=\"\")\n",
    "        if average_score > max_average_score and average_score >= 0.5:\n",
    "            # Save best agent\n",
    "            agents.save()\n",
    "        max_average_score = max(max_average_score, average_score)\n",
    "    return scores, average_scores\n",
    "\n",
    "scores, average_scores = maddpg()\n",
    "\n",
    "fig = plt.figure()\n",
    "ax = fig.add_subplot(111)\n",
    "plt.plot(np.arange(1, len(scores)+1), scores)\n",
    "plt.plot(np.arange(1, len(scores)+1), average_scores)\n",
    "plt.ylabel('Score')\n",
    "plt.xlabel('Episode #')\n",
    "plt.show()"
   ]
  },
  {
   "cell_type": "markdown",
   "metadata": {},
   "source": [
    "### 4. Watch a Smart Agents!\n",
    "\n",
    "In the next code cell, you will load the trained weights from file to watch the smart agents!"
   ]
  },
  {
   "cell_type": "code",
   "execution_count": 3,
   "metadata": {},
   "outputs": [
    {
     "name": "stdout",
     "output_type": "stream",
     "text": [
      "Score: 0.60"
     ]
    }
   ],
   "source": [
    "agents.load()\n",
    "agents.reset()                                           # reset noise    \n",
    "env_info       = env.reset(train_mode=False)[brain_name] # reset the environment    \n",
    "states         = env_info.vector_observations            # get the current state\n",
    "episode_scores = np.zeros(num_agents)                    # initialize the score\n",
    "while True:\n",
    "    actions         = agents.act(states)                 # select an action\n",
    "    env_info        = env.step(actions)[brain_name]      # send action to tne environment\n",
    "    next_states     = env_info.vector_observations       # get next state\n",
    "    rewards         = env_info.rewards                   # get reward\n",
    "    dones           = env_info.local_done                # see if episode finished\n",
    "    episode_scores += rewards                            # update the score\n",
    "    states          = next_states                        # roll over state to next time step\n",
    "    score = np.max(episode_scores)                       # max episode score\n",
    "    print('\\rScore: {:.2f}'.format(score), end=\"\")\n",
    "    if np.any(dones):                                    # exit loop if episode finished\n",
    "        break"
   ]
  },
  {
   "cell_type": "code",
   "execution_count": 4,
   "metadata": {},
   "outputs": [],
   "source": [
    "env.close()"
   ]
  }
 ],
 "metadata": {
  "kernelspec": {
   "display_name": "drlnd-GPU",
   "language": "python",
   "name": "drlnd-gpu"
  },
  "language_info": {
   "codemirror_mode": {
    "name": "ipython",
    "version": 3
   },
   "file_extension": ".py",
   "mimetype": "text/x-python",
   "name": "python",
   "nbconvert_exporter": "python",
   "pygments_lexer": "ipython3",
   "version": "3.6.12"
  }
 },
 "nbformat": 4,
 "nbformat_minor": 2
}
