{
 "cells": [
  {
   "cell_type": "markdown",
   "metadata": {},
   "source": [
    "# Deep Deterministic Policy Gradients (DDPG)\n",
    "---\n",
    "In this notebook, we train DDPG with Continuous-Control environment.\n",
    "\n",
    "### 1. Import the Necessary Packages"
   ]
  },
  {
   "cell_type": "code",
   "execution_count": 3,
   "metadata": {},
   "outputs": [],
   "source": [
    "from unityagents import UnityEnvironment\n",
    "import torch\n",
    "import numpy as np\n",
    "from collections import deque\n",
    "import matplotlib.pyplot as plt\n",
    "%matplotlib inline\n",
    "\n",
    "from ddpg_agent import Agent"
   ]
  },
  {
   "cell_type": "markdown",
   "metadata": {},
   "source": [
    "### 2. Instantiate the Environment and Agent"
   ]
  },
  {
   "cell_type": "code",
   "execution_count": 2,
   "metadata": {},
   "outputs": [
    {
     "name": "stderr",
     "output_type": "stream",
     "text": [
      "INFO:unityagents:\n",
      "'Academy' started successfully!\n",
      "Unity Academy name: Academy\n",
      "        Number of Brains: 1\n",
      "        Number of External Brains : 1\n",
      "        Lesson number : 0\n",
      "        Reset Parameters :\n",
      "\t\t\n",
      "Unity brain name: TennisBrain\n",
      "        Number of Visual Observations (per agent): 0\n",
      "        Vector Observation space type: continuous\n",
      "        Vector Observation space size (per agent): 8\n",
      "        Number of stacked Vector Observation: 3\n",
      "        Vector Action space type: continuous\n",
      "        Vector Action space size (per agent): 2\n",
      "        Vector Action descriptions: , \n"
     ]
    }
   ],
   "source": [
    "file_name   = r'D:\\deep-reinforcement-learning\\p3_collab-compet\\Tennis_Windows_x86_64\\Tennis.exe'\n",
    "env         = UnityEnvironment(file_name=file_name)  # open environment\n",
    "brain_name  = env.brain_names[0]                     # get the default brain\n",
    "brain       = env.brains[brain_name]\n",
    "env_info    = env.reset(train_mode=True)[brain_name] # reset the environment\n",
    "num_agents  = len(env_info.agents)                   # number of agents\n",
    "action_size = brain.vector_action_space_size         # size of each action\n",
    "states      = env_info.vector_observations           # examine the state space \n",
    "state_size  = states.shape[1]\n",
    "# create the agent\n",
    "agent = Agent(state_size=state_size, action_size=action_size, random_seed=4)"
   ]
  },
  {
   "cell_type": "markdown",
   "metadata": {},
   "source": [
    "### 3. Train the Agent with DDPG\n",
    "\n",
    "Run the code cell below to train the agent from scratch.  Alternatively, you can skip to the next code cell to load the pre-trained weights from file."
   ]
  },
  {
   "cell_type": "code",
   "execution_count": 4,
   "metadata": {},
   "outputs": [
    {
     "name": "stdout",
     "output_type": "stream",
     "text": [
      "Episode 200\tAverage Score: -0.00\tScore: -0.00"
     ]
    },
    {
     "data": {
      "image/png": "[encoded data removed]",
      "text/plain": [
       "<Figure size 432x288 with 1 Axes>"
      ]
     },
     "metadata": {
      "needs_background": "light"
     },
     "output_type": "display_data"
    }
   ],
   "source": [
    "def ddpg(n_episodes=200):\n",
    "    scores_deque      = deque(maxlen=100) # last 100 scores\n",
    "    scores            = []                # all scores       \n",
    "    max_average_score = 0                 # max average score\n",
    "    for i_episode in range(1, n_episodes+1):\n",
    "        agent.reset()                                           # reset noise    \n",
    "        env_info       = env.reset(train_mode=True)[brain_name] # reset the environment    \n",
    "        states         = env_info.vector_observations           # get the current state\n",
    "        episode_scores = np.zeros(num_agents)                   # initialize the score\n",
    "        while True:\n",
    "            actions     = agent.act(states)                     # select an action\n",
    "            env_info    = env.step(actions)[brain_name]         # send action to tne environment\n",
    "            next_states = env_info.vector_observations          # get next state\n",
    "            rewards     = env_info.rewards                      # get reward\n",
    "            dones       = env_info.local_done                   # see if episode finished\n",
    "            agent.step(states, actions, rewards, next_states,\n",
    "                       dones)                                   # Save experience and learn\n",
    "            episode_scores += rewards                           # update the score\n",
    "            states          = next_states                       # roll over state to next time step\n",
    "            if np.any(dones):                                   # exit loop if episode finished\n",
    "                break\n",
    "        score = np.mean(episode_scores)                         # mean episode score\n",
    "        scores_deque.append(score)      \n",
    "        scores.append(score)\n",
    "        average_score = np.mean(scores_deque)                   # average score\n",
    "        print('\\rEpisode {}\\tAverage Score: {:.2f}\\tScore: {:.2f}'.format(i_episode, average_score, score), end=\"\")\n",
    "        if average_score > max_average_score and average_score >= 0.5:\n",
    "            # Save best agent\n",
    "            torch.save(agent.actor_local.state_dict(), 'checkpoint_actor.pth')\n",
    "            torch.save(agent.critic_local.state_dict(), 'checkpoint_critic.pth')\n",
    "        max_average_score = max(max_average_score, average_score)\n",
    "    return scores\n",
    "\n",
    "scores = ddpg()\n",
    "\n",
    "fig = plt.figure()\n",
    "ax = fig.add_subplot(111)\n",
    "plt.plot(np.arange(1, len(scores)+1), scores)\n",
    "plt.ylabel('Score')\n",
    "plt.xlabel('Episode #')\n",
    "plt.show()"
   ]
  },
  {
   "cell_type": "markdown",
   "metadata": {},
   "source": [
    "### 4. Watch a Smart Agent!\n",
    "\n",
    "In the next code cell, you will load the trained weights from file to watch a smart agent!"
   ]
  },
  {
   "cell_type": "code",
   "execution_count": 6,
   "metadata": {},
   "outputs": [
    {
     "name": "stdout",
     "output_type": "stream",
     "text": [
      "Score: 35.83"
     ]
    }
   ],
   "source": [
    "agent.actor_local.load_state_dict(torch.load('checkpoint_actor.pth'))\n",
    "agent.critic_local.load_state_dict(torch.load('checkpoint_critic.pth'))\n",
    "\n",
    "agent.reset()                                            # reset noise    \n",
    "env_info       = env.reset(train_mode=False)[brain_name] # reset the environment    \n",
    "states         = env_info.vector_observations            # get the current state\n",
    "episode_scores = np.zeros(num_agents)                    # initialize the score\n",
    "while True:\n",
    "    actions         = agent.act(states)             # select an action\n",
    "    env_info        = env.step(actions)[brain_name] # send action to tne environment\n",
    "    next_states     = env_info.vector_observations  # get next state\n",
    "    rewards         = env_info.rewards              # get reward\n",
    "    dones           = env_info.local_done           # see if episode finished\n",
    "    episode_scores += rewards                       # update the score\n",
    "    states          = next_states                   # roll over state to next time step\n",
    "    score           = np.mean(episode_scores)\n",
    "    print('\\rScore: {:.2f}'.format(score), end=\"\")\n",
    "    if np.any(dones):                               # exit loop if episode finished\n",
    "        break"
   ]
  },
  {
   "cell_type": "code",
   "execution_count": 5,
   "metadata": {},
   "outputs": [],
   "source": [
    "env.close()"
   ]
  },
  {
   "cell_type": "code",
   "execution_count": null,
   "metadata": {},
   "outputs": [],
   "source": []
  }
 ],
 "metadata": {
  "kernelspec": {
   "display_name": "drlnd-GPU",
   "language": "python",
   "name": "drlnd-gpu"
  },
  "language_info": {
   "codemirror_mode": {
    "name": "ipython",
    "version": 3
   },
   "file_extension": ".py",
   "mimetype": "text/x-python",
   "name": "python",
   "nbconvert_exporter": "python",
   "pygments_lexer": "ipython3",
   "version": "3.6.12"
  }
 },
 "nbformat": 4,
 "nbformat_minor": 2
}
